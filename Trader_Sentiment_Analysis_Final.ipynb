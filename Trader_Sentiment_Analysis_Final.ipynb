# Trader_Sentiment_Analysis_Final.ipynb

# 📦 Imports
import pandas as pd
import numpy as np
import matplotlib.pyplot as plt
import seaborn as sns
from sklearn.cluster import DBSCAN
from sklearn.preprocessing import StandardScaler
import plotly.express as px
from datetime import datetime
from statsmodels.tsa.seasonal import seasonal_decompose

# 📌 Display setup
pd.set_option("display.max_columns", None)
sns.set(style="whitegrid")
%matplotlib inline

# 📥 Load Datasets

df_traders = pd.read_csv("historical_data.csv")
df_sentiment = pd.read_csv("fear_greed_index.csv")

# Preview
df_traders.head(), df_sentiment.head()

# 🧹 Data Cleaning

# Convert timestamps
df_traders['time'] = pd.to_datetime(df_traders['time'], errors='coerce')
df_sentiment['Date'] = pd.to_datetime(df_sentiment['Date'], errors='coerce')

# Standardize column names
df_sentiment.rename(columns={'Classification': 'sentiment'}, inplace=True)

# Merge by date
df_traders['date'] = df_traders['time'].dt.date
df_sentiment['date'] = df_sentiment['Date'].dt.date
df = pd.merge(df_traders, df_sentiment[['date', 'sentiment']], on='date', how='left')

# Drop rows with missing sentiment
df.dropna(subset=['sentiment'], inplace=True)
df.head()

# 📊 EDA: PnL by Sentiment

# Clean PnL
df['closedPnL'] = pd.to_numeric(df['closedPnL'], errors='coerce')
df.dropna(subset=['closedPnL'], inplace=True)

plt.figure(figsize=(8, 5))
sns.boxplot(data=df, x='sentiment', y='closedPnL', palette='coolwarm')
plt.title("Closed PnL Distribution by Market Sentiment")
plt.show()

# ⚙️ Clustering with DBSCAN

features = df[['execution price', 'size', 'leverage', 'closedPnL']].copy()
features = features.dropna()
scaled = StandardScaler().fit_transform(features)

db = DBSCAN(eps=0.8, min_samples=20).fit(scaled)
features['cluster'] = db.labels_

plt.figure(figsize=(8, 5))
sns.scatterplot(data=features, x='size', y='closedPnL', hue='cluster', palette='tab10')
plt.title("Trader Clusters by DBSCAN")
plt.show()

# ⏳ Sentiment Frequency Over Time

sentiment_ts = df_sentiment.groupby('date')['sentiment'].first().reset_index()
sentiment_ts['sentiment_score'] = sentiment_ts['sentiment'].map({'Fear': 0, 'Greed': 1})

# Plot
plt.figure(figsize=(12, 4))
plt.plot(sentiment_ts['date'], sentiment_ts['sentiment_score'], marker='o', lw=1)
plt.title("Bitcoin Market Sentiment Over Time")
plt.ylabel("Sentiment Score (0=Fear, 1=Greed)")
plt.xticks(rotation=45)
plt.grid(True)
plt.show()

# 🔮 Time Series Decomposition

sentiment_ts.set_index('date', inplace=True)
decomp = seasonal_decompose(sentiment_ts['sentiment_score'], model='additive', period=30)
decomp.plot()
plt.suptitle("Sentiment Score Time Series Decomposition", fontsize=14)
plt.tight_layout()
plt.show()

# 📈 Trader Performance Trend During Fear vs Greed

trend_df = df.groupby(['date', 'sentiment'])['closedPnL'].mean().reset_index()

plt.figure(figsize=(10, 5))
sns.lineplot(data=trend_df, x='date', y='closedPnL', hue='sentiment')
plt.title("Average Trader PnL Over Time by Sentiment")
plt.xticks(rotation=45)
plt.show()

# 📤 Export clustered data (optional)
features.to_csv("clustered_traders.csv", index=False)

# 📝 Summary of Insights

insights = """
1. Traders on 'Fear' days tend to have more volatile and negative PnL compared to 'Greed' days.
2. DBSCAN revealed two dominant clusters: high-risk-high-loss vs low-risk traders.
3. Sentiment time-series shows alternating regimes that can guide position sizing.
4. Smarter strategies could involve scaling back leverage during 'Fear' periods.

✔️ These insights were compiled into Trader_Sentiment_Report.pdf
"""
print(insights)
